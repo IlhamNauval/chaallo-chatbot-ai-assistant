{
 "cells": [
  {
   "cell_type": "code",
   "execution_count": 1,
   "id": "e56e17c0",
   "metadata": {},
   "outputs": [],
   "source": [
    "# !pip install -q pymongo\n",
    "# !pip install dotenv"
   ]
  },
  {
   "cell_type": "code",
   "execution_count": 1,
   "id": "20c03986",
   "metadata": {},
   "outputs": [],
   "source": [
    "# Import Library\n",
    "from dotenv import load_dotenv\n",
    "import os\n",
    "import pymongo\n",
    "import pymongo.server_api"
   ]
  },
  {
   "cell_type": "code",
   "execution_count": 2,
   "id": "a1fdf674",
   "metadata": {},
   "outputs": [],
   "source": [
    "# Define URI\n",
    "load_dotenv()\n",
    "URI=os.getenv(\"MONGODB_URI\")"
   ]
  },
  {
   "cell_type": "code",
   "execution_count": 3,
   "id": "c81d0eaf",
   "metadata": {},
   "outputs": [
    {
     "name": "stdout",
     "output_type": "stream",
     "text": [
      "Connected successfully\n"
     ]
    }
   ],
   "source": [
    "# Test connection\n",
    "client = pymongo.MongoClient(URI, server_api=pymongo.server_api.ServerApi(version=\"1\", strict=True, deprecation_errors=True))\n",
    "\n",
    "try:\n",
    "    client.admin.command(\"ping\")\n",
    "    print(\"Connected successfully\")\n",
    "\n",
    "    client.close()\n",
    "except Exception as e:\n",
    "    raise Exception(\"The following error occured: \", e)"
   ]
  },
  {
   "cell_type": "code",
   "execution_count": 4,
   "id": "79c2a702",
   "metadata": {},
   "outputs": [],
   "source": [
    "client = pymongo.MongoClient(URI, server_api=pymongo.server_api.ServerApi(version=\"1\", strict=True, deprecation_errors=True))"
   ]
  },
  {
   "cell_type": "code",
   "execution_count": 5,
   "id": "57b1f99f",
   "metadata": {},
   "outputs": [
    {
     "data": {
      "text/plain": [
       "['my_store', 'social_media', 'tc4', 'admin', 'local']"
      ]
     },
     "execution_count": 5,
     "metadata": {},
     "output_type": "execute_result"
    }
   ],
   "source": [
    "# Check database exist in MongoDB\n",
    "client.list_database_names()"
   ]
  },
  {
   "cell_type": "code",
   "execution_count": 6,
   "id": "b3fb42d4",
   "metadata": {},
   "outputs": [],
   "source": [
    "# Create a new database\n",
    "db = client['finalproject_db']"
   ]
  },
  {
   "cell_type": "code",
   "execution_count": 7,
   "id": "f43e96a1",
   "metadata": {},
   "outputs": [],
   "source": [
    "# Create a new collection\n",
    "collection = db['faq']"
   ]
  }
 ],
 "metadata": {
  "kernelspec": {
   "display_name": "env_py39",
   "language": "python",
   "name": "python3"
  },
  "language_info": {
   "codemirror_mode": {
    "name": "ipython",
    "version": 3
   },
   "file_extension": ".py",
   "mimetype": "text/x-python",
   "name": "python",
   "nbconvert_exporter": "python",
   "pygments_lexer": "ipython3",
   "version": "3.9.21"
  }
 },
 "nbformat": 4,
 "nbformat_minor": 5
}
