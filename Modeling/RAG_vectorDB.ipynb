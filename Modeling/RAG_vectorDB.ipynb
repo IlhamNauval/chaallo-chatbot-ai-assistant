{
 "cells": [
  {
   "cell_type": "code",
   "execution_count": 9,
   "id": "433ec554",
   "metadata": {},
   "outputs": [],
   "source": [
    "# Import Libraries\n",
    "import pandas as pd\n",
    "import requests\n",
    "import os\n",
    "import pymongo\n",
    "from pymongo import MongoClient\n",
    "from dotenv import load_dotenv\n",
    "\n",
    "from langchain.text_splitter import RecursiveCharacterTextSplitter\n",
    "from langchain_openai import OpenAIEmbeddings\n",
    "from langchain_mongodb import MongoDBAtlasVectorSearch\n",
    "from langchain_community.document_loaders import CSVLoader"
   ]
  },
  {
   "cell_type": "code",
   "execution_count": 10,
   "id": "7524be13",
   "metadata": {},
   "outputs": [],
   "source": [
    "# Load Environment Variables\n",
    "load_dotenv()\n",
    "MONGODB_URI = os.getenv(\"MONGODB_URI\")\n",
    "OPENAI_API_KEY = os.getenv(\"OPENAI_API_KEY\")"
   ]
  },
  {
   "cell_type": "code",
   "execution_count": 11,
   "id": "afe078f8",
   "metadata": {},
   "outputs": [],
   "source": [
    "# Load CSV Dataset\n",
    "loader = CSVLoader(\n",
    "    file_path='faq_allobank_clean.csv',\n",
    "    content_columns=[\"answer\"],  # Kolom utama untuk konten\n",
    "    metadata_columns=[\"question\"],  # Metadata pertanyaan\n",
    "    csv_args={'delimiter': ','}\n",
    ")\n",
    "documents = loader.load()"
   ]
  },
  {
   "cell_type": "code",
   "execution_count": 12,
   "id": "17815d64",
   "metadata": {},
   "outputs": [
    {
     "name": "stdout",
     "output_type": "stream",
     "text": [
      "Chunks dari faq menjadi 704 sub-documents.\n"
     ]
    }
   ],
   "source": [
    "# Split Into Chunks\n",
    "text_splitter = RecursiveCharacterTextSplitter(\n",
    "    chunk_size=200,\n",
    "    chunk_overlap=50,\n",
    "    length_function=len\n",
    ")\n",
    "chunks = text_splitter.split_documents(documents)\n",
    "print(f\"Chunks dari faq menjadi {len(chunks)} sub-documents.\")"
   ]
  },
  {
   "cell_type": "code",
   "execution_count": 13,
   "id": "bc4958dc",
   "metadata": {},
   "outputs": [],
   "source": [
    "# Initialize Embeddings dengan model text-embedding-3-small\n",
    "embeddings = OpenAIEmbeddings(\n",
    "    model=\"text-embedding-3-small\",\n",
    "    openai_api_key=OPENAI_API_KEY,\n",
    ")"
   ]
  },
  {
   "cell_type": "code",
   "execution_count": 14,
   "id": "aa61fb36",
   "metadata": {},
   "outputs": [],
   "source": [
    "# MongoDB Connection\n",
    "client = MongoClient(MONGODB_URI)\n",
    "collection = client['finalproject_db']['faq']"
   ]
  },
  {
   "cell_type": "code",
   "execution_count": 15,
   "id": "b7fd086d",
   "metadata": {},
   "outputs": [
    {
     "name": "stdout",
     "output_type": "stream",
     "text": [
      "Data berhasil diunggah ke MongoDB Atlas!\n",
      "Jumlah dokumen: 352\n",
      "Jumlah chunks: 704\n"
     ]
    }
   ],
   "source": [
    "# Vector Store Setup\n",
    "vector_store = MongoDBAtlasVectorSearch.from_documents(\n",
    "    documents=chunks,\n",
    "    embedding=embeddings,\n",
    "    collection=collection,\n",
    "    index_name=\"vector_index\"\n",
    ")\n",
    "\n",
    "print(\"Data berhasil diunggah ke MongoDB Atlas!\")\n",
    "print(f\"Jumlah dokumen: {len(documents)}\")\n",
    "print(f\"Jumlah chunks: {len(chunks)}\")"
   ]
  }
 ],
 "metadata": {
  "kernelspec": {
   "display_name": "env_py39",
   "language": "python",
   "name": "python3"
  },
  "language_info": {
   "codemirror_mode": {
    "name": "ipython",
    "version": 3
   },
   "file_extension": ".py",
   "mimetype": "text/x-python",
   "name": "python",
   "nbconvert_exporter": "python",
   "pygments_lexer": "ipython3",
   "version": "3.9.21"
  }
 },
 "nbformat": 4,
 "nbformat_minor": 5
}
